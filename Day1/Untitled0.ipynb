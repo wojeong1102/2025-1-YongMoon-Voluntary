{
  "nbformat": 4,
  "nbformat_minor": 0,
  "metadata": {
    "colab": {
      "provenance": []
    },
    "kernelspec": {
      "name": "python3",
      "display_name": "Python 3"
    },
    "language_info": {
      "name": "python"
    }
  },
  "cells": [
    {
      "cell_type": "code",
      "execution_count": 14,
      "metadata": {
        "colab": {
          "base_uri": "https://localhost:8080/"
        },
        "id": "N1O6BXyJG5mo",
        "outputId": "a0af3d47-08ab-4ef5-da5f-294f4319182d"
      },
      "outputs": [
        {
          "output_type": "stream",
          "name": "stdout",
          "text": [
            "tensor([[1, 2],\n",
            "        [3, 4]])\n"
          ]
        }
      ],
      "source": [
        "import torch\n",
        "import numpy as np\n",
        "\n",
        "data = [[1,2],[3,4]]\n",
        "x_data = torch.tensor(data)\n",
        "\n",
        "\n",
        "#print(x_data)\n",
        "tensor = x_data"
      ]
    },
    {
      "cell_type": "code",
      "source": [
        "tensor[: ,1] = 0\n",
        "print(tensor)\n",
        "\n",
        "y1=tensor @ tensor.T\n",
        "y2=tensor.matmul(tensor.T)\n",
        "\n",
        "print(y1)\n",
        "print(y2)\n",
        "\n"
      ],
      "metadata": {
        "colab": {
          "base_uri": "https://localhost:8080/"
        },
        "id": "922S8in9I7us",
        "outputId": "702bed65-0335-4d10-e274-216aeb60f487"
      },
      "execution_count": 23,
      "outputs": [
        {
          "output_type": "stream",
          "name": "stdout",
          "text": [
            "tensor([[1, 0],\n",
            "        [3, 0]])\n",
            "tensor([[1, 3],\n",
            "        [3, 9]])\n",
            "tensor([[1, 3],\n",
            "        [3, 9]])\n"
          ]
        }
      ]
    },
    {
      "cell_type": "code",
      "source": [],
      "metadata": {
        "id": "L0-uAqlJJQJM"
      },
      "execution_count": null,
      "outputs": []
    }
  ]
}